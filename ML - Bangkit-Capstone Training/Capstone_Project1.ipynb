{
  "nbformat": 4,
  "nbformat_minor": 0,
  "metadata": {
    "colab": {
      "name": "Capstone Project ",
      "provenance": [],
      "collapsed_sections": []
    },
    "kernelspec": {
      "name": "python3",
      "display_name": "Python 3"
    },
    "language_info": {
      "name": "python"
    },
    "accelerator": "GPU"
  },
  "cells": [
    {
      "cell_type": "code",
      "metadata": {
        "colab": {
          "base_uri": "https://localhost:8080/"
        },
        "id": "HVPuhDkorOxs",
        "outputId": "3a37e01c-6d5d-42e5-8184-8aae154a1266"
      },
      "source": [
        "from google.colab import drive\n",
        "drive.mount('/content/drive')"
      ],
      "execution_count": null,
      "outputs": [
        {
          "output_type": "stream",
          "text": [
            "Mounted at /content/drive\n"
          ],
          "name": "stdout"
        }
      ]
    },
    {
      "cell_type": "code",
      "metadata": {
        "id": "k8VhcZtjrojT",
        "colab": {
          "base_uri": "https://localhost:8080/"
        },
        "outputId": "0dc9902e-82cb-468b-a335-b465910f869c"
      },
      "source": [
        "import tensorflow as tf\n",
        "from tensorflow.keras.optimizers import SGD\n",
        "from tensorflow.keras.preprocessing.image import ImageDataGenerator\n",
        "from tensorflow.keras.applications import VGG16\n",
        "from tensorflow.keras import layers\n",
        "from tensorflow.keras import Model\n",
        "\n",
        "Base_Model = VGG16(weights='imagenet', include_top=False, input_shape = (224, 224, 3))\n",
        "\n",
        "for layer in Base_Model.layers:\n",
        "  layer.trainable = False\n",
        "\n",
        "Base_Model.summary()"
      ],
      "execution_count": null,
      "outputs": [
        {
          "output_type": "stream",
          "text": [
            "Downloading data from https://storage.googleapis.com/tensorflow/keras-applications/vgg16/vgg16_weights_tf_dim_ordering_tf_kernels_notop.h5\n",
            "58892288/58889256 [==============================] - 1s 0us/step\n",
            "Model: \"vgg16\"\n",
            "_________________________________________________________________\n",
            "Layer (type)                 Output Shape              Param #   \n",
            "=================================================================\n",
            "input_1 (InputLayer)         [(None, 224, 224, 3)]     0         \n",
            "_________________________________________________________________\n",
            "block1_conv1 (Conv2D)        (None, 224, 224, 64)      1792      \n",
            "_________________________________________________________________\n",
            "block1_conv2 (Conv2D)        (None, 224, 224, 64)      36928     \n",
            "_________________________________________________________________\n",
            "block1_pool (MaxPooling2D)   (None, 112, 112, 64)      0         \n",
            "_________________________________________________________________\n",
            "block2_conv1 (Conv2D)        (None, 112, 112, 128)     73856     \n",
            "_________________________________________________________________\n",
            "block2_conv2 (Conv2D)        (None, 112, 112, 128)     147584    \n",
            "_________________________________________________________________\n",
            "block2_pool (MaxPooling2D)   (None, 56, 56, 128)       0         \n",
            "_________________________________________________________________\n",
            "block3_conv1 (Conv2D)        (None, 56, 56, 256)       295168    \n",
            "_________________________________________________________________\n",
            "block3_conv2 (Conv2D)        (None, 56, 56, 256)       590080    \n",
            "_________________________________________________________________\n",
            "block3_conv3 (Conv2D)        (None, 56, 56, 256)       590080    \n",
            "_________________________________________________________________\n",
            "block3_pool (MaxPooling2D)   (None, 28, 28, 256)       0         \n",
            "_________________________________________________________________\n",
            "block4_conv1 (Conv2D)        (None, 28, 28, 512)       1180160   \n",
            "_________________________________________________________________\n",
            "block4_conv2 (Conv2D)        (None, 28, 28, 512)       2359808   \n",
            "_________________________________________________________________\n",
            "block4_conv3 (Conv2D)        (None, 28, 28, 512)       2359808   \n",
            "_________________________________________________________________\n",
            "block4_pool (MaxPooling2D)   (None, 14, 14, 512)       0         \n",
            "_________________________________________________________________\n",
            "block5_conv1 (Conv2D)        (None, 14, 14, 512)       2359808   \n",
            "_________________________________________________________________\n",
            "block5_conv2 (Conv2D)        (None, 14, 14, 512)       2359808   \n",
            "_________________________________________________________________\n",
            "block5_conv3 (Conv2D)        (None, 14, 14, 512)       2359808   \n",
            "_________________________________________________________________\n",
            "block5_pool (MaxPooling2D)   (None, 7, 7, 512)         0         \n",
            "=================================================================\n",
            "Total params: 14,714,688\n",
            "Trainable params: 0\n",
            "Non-trainable params: 14,714,688\n",
            "_________________________________________________________________\n"
          ],
          "name": "stdout"
        }
      ]
    },
    {
      "cell_type": "code",
      "metadata": {
        "colab": {
          "base_uri": "https://localhost:8080/"
        },
        "id": "_nNY6TfOfd7X",
        "outputId": "ec1fbe32-e612-4272-86bd-04b91e10d0b7"
      },
      "source": [
        "last_layer = Base_Model.get_layer('block4_pool')\n",
        "print('last layer output shape: ', last_layer.output_shape)"
      ],
      "execution_count": null,
      "outputs": [
        {
          "output_type": "stream",
          "text": [
            "last layer output shape:  (None, 14, 14, 512)\n"
          ],
          "name": "stdout"
        }
      ]
    },
    {
      "cell_type": "code",
      "metadata": {
        "id": "wNBKBNJcga17"
      },
      "source": [
        "last_output = last_layer.output\n",
        "x = layers.Flatten()(last_output)\n",
        "x = layers.Dense(512, activation='relu')(x)\n",
        "x = layers.Dropout(0.3)(x)\n",
        "x = layers. Dense (4, activation='softmax')(x)\n",
        "\n",
        "model = Model(Base_Model.input, x)\n",
        "model.compile(optimizer = SGD(lr=0.0001), loss='categorical_crossentropy', metrics = ['accuracy'])"
      ],
      "execution_count": null,
      "outputs": []
    },
    {
      "cell_type": "code",
      "metadata": {
        "colab": {
          "base_uri": "https://localhost:8080/"
        },
        "id": "T0xXI1yydW3x",
        "outputId": "ec4857c1-f506-49b7-e2ec-69be7051b6b6"
      },
      "source": [
        "TRAINING_DIR = '/content/drive/MyDrive/Four Disaster/Training'\n",
        "train_datagen = ImageDataGenerator(\n",
        "    rescale=1./255.,\n",
        "    rotation_range=25,\n",
        "    width_shift_range=0.2,\n",
        "    height_shift_range=0.2,\n",
        "    shear_range=0.2,\n",
        "    zoom_range=0.2,\n",
        "    horizontal_flip=True,\n",
        "    fill_mode='nearest')\n",
        "\n",
        "train_generator = train_datagen.flow_from_directory(\n",
        "    TRAINING_DIR,\n",
        "    batch_size=64,\n",
        "    class_mode='categorical',\n",
        "    target_size=(224, 224)\n",
        ")\n",
        "\n",
        "VALIDATION_DIR = '/content/drive/MyDrive/Four Disaster/Testing'\n",
        "validation_datagen = ImageDataGenerator(rescale= 1./255.)\n",
        "validation_generator = validation_datagen.flow_from_directory(\n",
        "    VALIDATION_DIR,\n",
        "    batch_size=64,\n",
        "    class_mode='categorical',\n",
        "    target_size=(224, 224)\n",
        ")\n"
      ],
      "execution_count": null,
      "outputs": [
        {
          "output_type": "stream",
          "text": [
            "Found 3544 images belonging to 4 classes.\n",
            "Found 891 images belonging to 4 classes.\n"
          ],
          "name": "stdout"
        }
      ]
    },
    {
      "cell_type": "code",
      "metadata": {
        "colab": {
          "base_uri": "https://localhost:8080/"
        },
        "id": "gCNGatKxwIlm",
        "outputId": "c07cf385-ce2f-4046-f308-6f29f32c6e7d"
      },
      "source": [
        "history = model.fit_generator(train_generator,\n",
        "                              epochs=75,\n",
        "                              verbose=1,\n",
        "                              validation_data=validation_generator)"
      ],
      "execution_count": null,
      "outputs": [
        {
          "output_type": "stream",
          "text": [
            "/usr/local/lib/python3.7/dist-packages/tensorflow/python/keras/engine/training.py:1844: UserWarning: `Model.fit_generator` is deprecated and will be removed in a future version. Please use `Model.fit`, which supports generators.\n",
            "  warnings.warn('`Model.fit_generator` is deprecated and '\n"
          ],
          "name": "stderr"
        },
        {
          "output_type": "stream",
          "text": [
            "Epoch 1/75\n",
            "56/56 [==============================] - 1509s 26s/step - loss: 2.0549 - accuracy: 0.4039 - val_loss: 0.9999 - val_accuracy: 0.6397\n",
            "Epoch 2/75\n",
            "56/56 [==============================] - 138s 2s/step - loss: 1.2351 - accuracy: 0.6131 - val_loss: 0.8445 - val_accuracy: 0.7015\n",
            "Epoch 3/75\n",
            "56/56 [==============================] - 137s 2s/step - loss: 0.9419 - accuracy: 0.6819 - val_loss: 0.7961 - val_accuracy: 0.7295\n",
            "Epoch 4/75\n",
            "56/56 [==============================] - 137s 2s/step - loss: 0.8390 - accuracy: 0.7088 - val_loss: 0.7308 - val_accuracy: 0.7587\n",
            "Epoch 5/75\n",
            "56/56 [==============================] - 136s 2s/step - loss: 0.7156 - accuracy: 0.7380 - val_loss: 0.6585 - val_accuracy: 0.7710\n",
            "Epoch 6/75\n",
            "56/56 [==============================] - 137s 2s/step - loss: 0.6771 - accuracy: 0.7586 - val_loss: 0.6422 - val_accuracy: 0.7666\n",
            "Epoch 7/75\n",
            "56/56 [==============================] - 141s 3s/step - loss: 0.6163 - accuracy: 0.7704 - val_loss: 0.6369 - val_accuracy: 0.7800\n",
            "Epoch 8/75\n",
            "56/56 [==============================] - 140s 2s/step - loss: 0.5934 - accuracy: 0.7939 - val_loss: 0.6022 - val_accuracy: 0.7890\n",
            "Epoch 9/75\n",
            "56/56 [==============================] - 136s 2s/step - loss: 0.6037 - accuracy: 0.7869 - val_loss: 0.5916 - val_accuracy: 0.7901\n",
            "Epoch 10/75\n",
            "56/56 [==============================] - 136s 2s/step - loss: 0.5339 - accuracy: 0.8045 - val_loss: 0.5772 - val_accuracy: 0.7924\n",
            "Epoch 11/75\n",
            "56/56 [==============================] - 136s 2s/step - loss: 0.5679 - accuracy: 0.7973 - val_loss: 0.5512 - val_accuracy: 0.8013\n",
            "Epoch 12/75\n",
            "56/56 [==============================] - 136s 2s/step - loss: 0.5499 - accuracy: 0.8042 - val_loss: 0.5460 - val_accuracy: 0.8002\n",
            "Epoch 13/75\n",
            "56/56 [==============================] - 137s 2s/step - loss: 0.4954 - accuracy: 0.8258 - val_loss: 0.5294 - val_accuracy: 0.8058\n",
            "Epoch 14/75\n",
            "56/56 [==============================] - 136s 2s/step - loss: 0.4583 - accuracy: 0.8404 - val_loss: 0.5146 - val_accuracy: 0.8103\n",
            "Epoch 15/75\n",
            "56/56 [==============================] - 136s 2s/step - loss: 0.4726 - accuracy: 0.8250 - val_loss: 0.5103 - val_accuracy: 0.8148\n",
            "Epoch 16/75\n",
            "56/56 [==============================] - 136s 2s/step - loss: 0.4897 - accuracy: 0.8331 - val_loss: 0.4986 - val_accuracy: 0.8182\n",
            "Epoch 17/75\n",
            "56/56 [==============================] - 136s 2s/step - loss: 0.4591 - accuracy: 0.8294 - val_loss: 0.5138 - val_accuracy: 0.8159\n",
            "Epoch 18/75\n",
            "56/56 [==============================] - 136s 2s/step - loss: 0.4372 - accuracy: 0.8453 - val_loss: 0.5033 - val_accuracy: 0.8047\n",
            "Epoch 19/75\n",
            "56/56 [==============================] - 136s 2s/step - loss: 0.4472 - accuracy: 0.8347 - val_loss: 0.5031 - val_accuracy: 0.8081\n",
            "Epoch 20/75\n",
            "56/56 [==============================] - 136s 2s/step - loss: 0.4401 - accuracy: 0.8437 - val_loss: 0.4803 - val_accuracy: 0.8171\n",
            "Epoch 21/75\n",
            "56/56 [==============================] - 136s 2s/step - loss: 0.4583 - accuracy: 0.8379 - val_loss: 0.4792 - val_accuracy: 0.8182\n",
            "Epoch 22/75\n",
            "56/56 [==============================] - 137s 2s/step - loss: 0.4021 - accuracy: 0.8599 - val_loss: 0.4632 - val_accuracy: 0.8193\n",
            "Epoch 23/75\n",
            "56/56 [==============================] - 137s 2s/step - loss: 0.4265 - accuracy: 0.8546 - val_loss: 0.4631 - val_accuracy: 0.8227\n",
            "Epoch 24/75\n",
            "56/56 [==============================] - 138s 2s/step - loss: 0.4144 - accuracy: 0.8536 - val_loss: 0.4665 - val_accuracy: 0.8215\n",
            "Epoch 25/75\n",
            "56/56 [==============================] - 137s 2s/step - loss: 0.3812 - accuracy: 0.8608 - val_loss: 0.4765 - val_accuracy: 0.8148\n",
            "Epoch 26/75\n",
            "56/56 [==============================] - 137s 2s/step - loss: 0.3982 - accuracy: 0.8561 - val_loss: 0.4637 - val_accuracy: 0.8215\n",
            "Epoch 27/75\n",
            "56/56 [==============================] - 137s 2s/step - loss: 0.4097 - accuracy: 0.8566 - val_loss: 0.4497 - val_accuracy: 0.8305\n",
            "Epoch 28/75\n",
            "56/56 [==============================] - 137s 2s/step - loss: 0.3886 - accuracy: 0.8573 - val_loss: 0.4562 - val_accuracy: 0.8260\n",
            "Epoch 29/75\n",
            "56/56 [==============================] - 136s 2s/step - loss: 0.3752 - accuracy: 0.8625 - val_loss: 0.4457 - val_accuracy: 0.8283\n",
            "Epoch 30/75\n",
            "56/56 [==============================] - 136s 2s/step - loss: 0.3660 - accuracy: 0.8625 - val_loss: 0.4533 - val_accuracy: 0.8316\n",
            "Epoch 31/75\n",
            "56/56 [==============================] - 136s 2s/step - loss: 0.3584 - accuracy: 0.8692 - val_loss: 0.4653 - val_accuracy: 0.8204\n",
            "Epoch 32/75\n",
            "56/56 [==============================] - 136s 2s/step - loss: 0.3776 - accuracy: 0.8722 - val_loss: 0.4413 - val_accuracy: 0.8350\n",
            "Epoch 33/75\n",
            "56/56 [==============================] - 136s 2s/step - loss: 0.3861 - accuracy: 0.8628 - val_loss: 0.4496 - val_accuracy: 0.8294\n",
            "Epoch 34/75\n",
            "56/56 [==============================] - 136s 2s/step - loss: 0.3614 - accuracy: 0.8717 - val_loss: 0.4549 - val_accuracy: 0.8283\n",
            "Epoch 35/75\n",
            "56/56 [==============================] - 136s 2s/step - loss: 0.3535 - accuracy: 0.8689 - val_loss: 0.4312 - val_accuracy: 0.8361\n",
            "Epoch 36/75\n",
            "56/56 [==============================] - 135s 2s/step - loss: 0.4139 - accuracy: 0.8525 - val_loss: 0.4475 - val_accuracy: 0.8283\n",
            "Epoch 37/75\n",
            "56/56 [==============================] - 136s 2s/step - loss: 0.3385 - accuracy: 0.8747 - val_loss: 0.4446 - val_accuracy: 0.8384\n",
            "Epoch 38/75\n",
            "56/56 [==============================] - 136s 2s/step - loss: 0.3597 - accuracy: 0.8668 - val_loss: 0.4307 - val_accuracy: 0.8328\n",
            "Epoch 39/75\n",
            "56/56 [==============================] - 135s 2s/step - loss: 0.3428 - accuracy: 0.8727 - val_loss: 0.4564 - val_accuracy: 0.8294\n",
            "Epoch 40/75\n",
            "56/56 [==============================] - 135s 2s/step - loss: 0.3399 - accuracy: 0.8721 - val_loss: 0.4207 - val_accuracy: 0.8462\n",
            "Epoch 41/75\n",
            "56/56 [==============================] - 136s 2s/step - loss: 0.3572 - accuracy: 0.8766 - val_loss: 0.4300 - val_accuracy: 0.8384\n",
            "Epoch 42/75\n",
            "56/56 [==============================] - 136s 2s/step - loss: 0.3441 - accuracy: 0.8732 - val_loss: 0.4177 - val_accuracy: 0.8361\n",
            "Epoch 43/75\n",
            "56/56 [==============================] - 136s 2s/step - loss: 0.3277 - accuracy: 0.8856 - val_loss: 0.4144 - val_accuracy: 0.8429\n",
            "Epoch 44/75\n",
            "56/56 [==============================] - 140s 3s/step - loss: 0.3445 - accuracy: 0.8768 - val_loss: 0.4205 - val_accuracy: 0.8339\n",
            "Epoch 45/75\n",
            "56/56 [==============================] - 137s 2s/step - loss: 0.3302 - accuracy: 0.8813 - val_loss: 0.4399 - val_accuracy: 0.8305\n",
            "Epoch 46/75\n",
            "56/56 [==============================] - 136s 2s/step - loss: 0.3079 - accuracy: 0.8854 - val_loss: 0.4269 - val_accuracy: 0.8305\n",
            "Epoch 47/75\n",
            "56/56 [==============================] - 136s 2s/step - loss: 0.3428 - accuracy: 0.8774 - val_loss: 0.4245 - val_accuracy: 0.8373\n",
            "Epoch 48/75\n",
            "56/56 [==============================] - 136s 2s/step - loss: 0.3193 - accuracy: 0.8827 - val_loss: 0.4161 - val_accuracy: 0.8462\n",
            "Epoch 49/75\n",
            "56/56 [==============================] - 137s 2s/step - loss: 0.3247 - accuracy: 0.8826 - val_loss: 0.4364 - val_accuracy: 0.8305\n",
            "Epoch 50/75\n",
            "56/56 [==============================] - 136s 2s/step - loss: 0.3276 - accuracy: 0.8851 - val_loss: 0.4139 - val_accuracy: 0.8418\n",
            "Epoch 51/75\n",
            "56/56 [==============================] - 136s 2s/step - loss: 0.3186 - accuracy: 0.8813 - val_loss: 0.4315 - val_accuracy: 0.8406\n",
            "Epoch 52/75\n",
            "56/56 [==============================] - 136s 2s/step - loss: 0.3312 - accuracy: 0.8823 - val_loss: 0.4174 - val_accuracy: 0.8451\n",
            "Epoch 53/75\n",
            "56/56 [==============================] - 136s 2s/step - loss: 0.2974 - accuracy: 0.8888 - val_loss: 0.4132 - val_accuracy: 0.8406\n",
            "Epoch 54/75\n",
            "56/56 [==============================] - 136s 2s/step - loss: 0.2867 - accuracy: 0.8960 - val_loss: 0.4111 - val_accuracy: 0.8462\n",
            "Epoch 55/75\n",
            "56/56 [==============================] - 136s 2s/step - loss: 0.2822 - accuracy: 0.8983 - val_loss: 0.4342 - val_accuracy: 0.8328\n",
            "Epoch 56/75\n",
            "56/56 [==============================] - 138s 2s/step - loss: 0.3069 - accuracy: 0.8929 - val_loss: 0.4169 - val_accuracy: 0.8418\n",
            "Epoch 57/75\n",
            "56/56 [==============================] - 137s 2s/step - loss: 0.3159 - accuracy: 0.8800 - val_loss: 0.4266 - val_accuracy: 0.8440\n",
            "Epoch 58/75\n",
            "56/56 [==============================] - 137s 2s/step - loss: 0.3068 - accuracy: 0.8945 - val_loss: 0.4345 - val_accuracy: 0.8384\n",
            "Epoch 59/75\n",
            "56/56 [==============================] - 137s 2s/step - loss: 0.2913 - accuracy: 0.8962 - val_loss: 0.4256 - val_accuracy: 0.8395\n",
            "Epoch 60/75\n",
            "56/56 [==============================] - 139s 2s/step - loss: 0.3025 - accuracy: 0.8937 - val_loss: 0.4212 - val_accuracy: 0.8451\n",
            "Epoch 61/75\n",
            "56/56 [==============================] - 137s 2s/step - loss: 0.2990 - accuracy: 0.8929 - val_loss: 0.4436 - val_accuracy: 0.8350\n",
            "Epoch 62/75\n",
            "56/56 [==============================] - 137s 2s/step - loss: 0.3151 - accuracy: 0.8819 - val_loss: 0.4258 - val_accuracy: 0.8406\n",
            "Epoch 63/75\n",
            "56/56 [==============================] - 138s 2s/step - loss: 0.2678 - accuracy: 0.9119 - val_loss: 0.4336 - val_accuracy: 0.8339\n",
            "Epoch 64/75\n",
            "56/56 [==============================] - 139s 2s/step - loss: 0.2772 - accuracy: 0.9005 - val_loss: 0.4341 - val_accuracy: 0.8429\n",
            "Epoch 65/75\n",
            "56/56 [==============================] - 138s 2s/step - loss: 0.2833 - accuracy: 0.8954 - val_loss: 0.4329 - val_accuracy: 0.8350\n",
            "Epoch 66/75\n",
            "56/56 [==============================] - 137s 2s/step - loss: 0.2889 - accuracy: 0.8917 - val_loss: 0.4329 - val_accuracy: 0.8316\n",
            "Epoch 67/75\n",
            "56/56 [==============================] - 137s 2s/step - loss: 0.2973 - accuracy: 0.8857 - val_loss: 0.4256 - val_accuracy: 0.8384\n",
            "Epoch 68/75\n",
            "56/56 [==============================] - 137s 2s/step - loss: 0.2779 - accuracy: 0.9014 - val_loss: 0.4241 - val_accuracy: 0.8384\n",
            "Epoch 69/75\n",
            "56/56 [==============================] - 137s 2s/step - loss: 0.2985 - accuracy: 0.8972 - val_loss: 0.4284 - val_accuracy: 0.8395\n",
            "Epoch 70/75\n",
            "56/56 [==============================] - 138s 2s/step - loss: 0.2748 - accuracy: 0.9017 - val_loss: 0.4209 - val_accuracy: 0.8418\n",
            "Epoch 71/75\n",
            "56/56 [==============================] - 137s 2s/step - loss: 0.2904 - accuracy: 0.8966 - val_loss: 0.4276 - val_accuracy: 0.8395\n",
            "Epoch 72/75\n",
            "56/56 [==============================] - 137s 2s/step - loss: 0.2638 - accuracy: 0.9019 - val_loss: 0.4403 - val_accuracy: 0.8316\n",
            "Epoch 73/75\n",
            "56/56 [==============================] - 137s 2s/step - loss: 0.2657 - accuracy: 0.9027 - val_loss: 0.4446 - val_accuracy: 0.8406\n",
            "Epoch 74/75\n",
            "56/56 [==============================] - 138s 2s/step - loss: 0.2636 - accuracy: 0.9077 - val_loss: 0.4178 - val_accuracy: 0.8395\n",
            "Epoch 75/75\n",
            "56/56 [==============================] - 138s 2s/step - loss: 0.2652 - accuracy: 0.9008 - val_loss: 0.4174 - val_accuracy: 0.8406\n"
          ],
          "name": "stdout"
        }
      ]
    },
    {
      "cell_type": "code",
      "metadata": {
        "id": "XhXm3d-knGEI",
        "colab": {
          "base_uri": "https://localhost:8080/",
          "height": 562
        },
        "outputId": "5898b9d8-3fad-49b4-aa5b-62f2d4ea07b3"
      },
      "source": [
        "# PLOT LOSS AND ACCURACY\n",
        "%matplotlib inline\n",
        "\n",
        "import matplotlib.image  as mpimg\n",
        "import matplotlib.pyplot as plt\n",
        "\n",
        "#-----------------------------------------------------------\n",
        "# Retrieve a list of list results on training and test data\n",
        "# sets for each training epoch\n",
        "#-----------------------------------------------------------\n",
        "acc=history.history['accuracy']\n",
        "val_acc=history.history['val_accuracy']\n",
        "loss=history.history['loss']\n",
        "val_loss=history.history['val_loss']\n",
        "\n",
        "epochs=range(len(acc)) # Get number of epochs\n",
        "\n",
        "#------------------------------------------------\n",
        "# Plot training and validation accuracy per epoch\n",
        "#------------------------------------------------\n",
        "plt.plot(epochs, acc, 'r', \"Training Accuracy\")\n",
        "plt.plot(epochs, val_acc, 'b', \"Validation Accuracy\")\n",
        "plt.title('Training and validation accuracy')\n",
        "plt.figure()\n",
        "\n",
        "#------------------------------------------------\n",
        "# Plot training and validation loss per epoch\n",
        "#------------------------------------------------\n",
        "plt.plot(epochs, loss, 'r', \"Training Loss\")\n",
        "plt.plot(epochs, val_loss, 'b', \"Validation Loss\")\n",
        "\n",
        "\n",
        "plt.title('Training and validation loss')\n",
        "\n",
        "# Desired output. Charts with training and validation metrics. No crash :)"
      ],
      "execution_count": null,
      "outputs": [
        {
          "output_type": "execute_result",
          "data": {
            "text/plain": [
              "Text(0.5, 1.0, 'Training and validation loss')"
            ]
          },
          "metadata": {
            "tags": []
          },
          "execution_count": 7
        },
        {
          "output_type": "display_data",
          "data": {
            "image/png": "[encoded data removed]",
            "text/plain": [
              "<Figure size 432x288 with 1 Axes>"
            ]
          },
          "metadata": {
            "tags": [],
            "needs_background": "light"
          }
        },
        {
          "output_type": "display_data",
          "data": {
            "image/png": "[encoded data removed]",
            "text/plain": [
              "<Figure size 432x288 with 1 Axes>"
            ]
          },
          "metadata": {
            "tags": [],
            "needs_background": "light"
          }
        }
      ]
    },
    {
      "cell_type": "code",
      "metadata": {
        "colab": {
          "base_uri": "https://localhost:8080/"
        },
        "id": "mOwGvucU7Gc3",
        "outputId": "6dc7714d-ad0e-4470-b364-e32a2bb6573d"
      },
      "source": [
        "import numpy as np\n",
        "from keras.preprocessing import image\n",
        "\n",
        "img_width, img_height = 224, 224\n",
        "img = image.load_img('/content/drive/MyDrive/Nyoba/Earthquake.jpg', target_size = (img_width, img_height))\n",
        "img = image.img_to_array(img)\n",
        "img = np.expand_dims(img, axis = 0)\n",
        "\n",
        "model.predict(img)"
      ],
      "execution_count": null,
      "outputs": [
        {
          "output_type": "execute_result",
          "data": {
            "text/plain": [
              "array([[0., 1., 0., 0.]], dtype=float32)"
            ]
          },
          "metadata": {
            "tags": []
          },
          "execution_count": 19
        }
      ]
    },
    {
      "cell_type": "code",
      "metadata": {
        "colab": {
          "base_uri": "https://localhost:8080/"
        },
        "id": "rF6AvMed8uIo",
        "outputId": "86c8fd8d-3c2c-495d-9f4e-12d62b574bc6"
      },
      "source": [
        "tf.keras.models.save_model(\n",
        "  model, 'Disaster_Prediction'\n",
        ")"
      ],
      "execution_count": null,
      "outputs": [
        {
          "output_type": "stream",
          "text": [
            "INFO:tensorflow:Assets written to: Disaster_Prediction/assets\n"
          ],
          "name": "stdout"
        }
      ]
    },
    {
      "cell_type": "code",
      "metadata": {
        "id": "obID4B2i_kY1"
      },
      "source": [
        "model.save('my_model.h5')\n"
      ],
      "execution_count": null,
      "outputs": []
    },
    {
      "cell_type": "code",
      "metadata": {
        "id": "Vj0P1042_lUl"
      },
      "source": [
        ""
      ],
      "execution_count": null,
      "outputs": []
    }
  ]
}